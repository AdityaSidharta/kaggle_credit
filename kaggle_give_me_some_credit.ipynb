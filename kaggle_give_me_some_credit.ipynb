{
 "cells": [
  {
   "cell_type": "markdown",
   "metadata": {},
   "source": [
    "## Question 2"
   ]
  },
  {
   "cell_type": "code",
   "execution_count": 1,
   "metadata": {},
   "outputs": [],
   "source": [
    "import pandas as pd\n",
    "import numpy as np\n",
    "import seaborn as sns\n",
    "import matplotlib.pyplot as plt\n",
    "from collections import Counter\n",
    "import pickle\n",
    "from sklearn.externals import joblib\n",
    "import time\n",
    "\n",
    "%matplotlib inline"
   ]
  },
  {
   "cell_type": "markdown",
   "metadata": {},
   "source": [
    "In this assignment, I am tasked to create a model which is able to guess the probability of default of a certain individual given the data about his previous loan behavior, demographic, financial conditions, etc. The probability will indicate the possibility of a person experiencing financial distress in the next two years"
   ]
  },
  {
   "cell_type": "markdown",
   "metadata": {},
   "source": [
    "### Loading Dataset"
   ]
  },
  {
   "cell_type": "code",
   "execution_count": 2,
   "metadata": {},
   "outputs": [],
   "source": [
    "df_data_dictionary = pd.read_excel('Data%20Dictionary.xls')\n",
    "df_sample_entry = pd.read_csv('sampleEntry.csv')\n",
    "df_train = pd.read_csv('cs-training.csv', index_col=0)\n",
    "df_test = pd.read_csv('cs-test.csv', index_col=0)"
   ]
  },
  {
   "cell_type": "code",
   "execution_count": 3,
   "metadata": {},
   "outputs": [
    {
     "data": {
      "text/html": [
       "<div>\n",
       "<style scoped>\n",
       "    .dataframe tbody tr th:only-of-type {\n",
       "        vertical-align: middle;\n",
       "    }\n",
       "\n",
       "    .dataframe tbody tr th {\n",
       "        vertical-align: top;\n",
       "    }\n",
       "\n",
       "    .dataframe thead th {\n",
       "        text-align: right;\n",
       "    }\n",
       "</style>\n",
       "<table border=\"1\" class=\"dataframe\">\n",
       "  <thead>\n",
       "    <tr style=\"text-align: right;\">\n",
       "      <th></th>\n",
       "      <th>Variable Name</th>\n",
       "      <th>Description</th>\n",
       "      <th>Type</th>\n",
       "    </tr>\n",
       "  </thead>\n",
       "  <tbody>\n",
       "    <tr>\n",
       "      <th>0</th>\n",
       "      <td>SeriousDlqin2yrs</td>\n",
       "      <td>Person experienced 90 days past due delinquency or worse</td>\n",
       "      <td>Y/N</td>\n",
       "    </tr>\n",
       "    <tr>\n",
       "      <th>1</th>\n",
       "      <td>RevolvingUtilizationOfUnsecuredLines</td>\n",
       "      <td>Total balance on credit cards and personal lines of credit except real estate and no installment debt like car loans divided by the sum of credit limits</td>\n",
       "      <td>percentage</td>\n",
       "    </tr>\n",
       "    <tr>\n",
       "      <th>2</th>\n",
       "      <td>age</td>\n",
       "      <td>Age of borrower in years</td>\n",
       "      <td>integer</td>\n",
       "    </tr>\n",
       "    <tr>\n",
       "      <th>3</th>\n",
       "      <td>NumberOfTime30-59DaysPastDueNotWorse</td>\n",
       "      <td>Number of times borrower has been 30-59 days past due but no worse in the last 2 years.</td>\n",
       "      <td>integer</td>\n",
       "    </tr>\n",
       "    <tr>\n",
       "      <th>4</th>\n",
       "      <td>DebtRatio</td>\n",
       "      <td>Monthly debt payments, alimony,living costs divided by monthy gross income</td>\n",
       "      <td>percentage</td>\n",
       "    </tr>\n",
       "    <tr>\n",
       "      <th>5</th>\n",
       "      <td>MonthlyIncome</td>\n",
       "      <td>Monthly income</td>\n",
       "      <td>real</td>\n",
       "    </tr>\n",
       "    <tr>\n",
       "      <th>6</th>\n",
       "      <td>NumberOfOpenCreditLinesAndLoans</td>\n",
       "      <td>Number of Open loans (installment like car loan or mortgage) and Lines of credit (e.g. credit cards)</td>\n",
       "      <td>integer</td>\n",
       "    </tr>\n",
       "    <tr>\n",
       "      <th>7</th>\n",
       "      <td>NumberOfTimes90DaysLate</td>\n",
       "      <td>Number of times borrower has been 90 days or more past due.</td>\n",
       "      <td>integer</td>\n",
       "    </tr>\n",
       "    <tr>\n",
       "      <th>8</th>\n",
       "      <td>NumberRealEstateLoansOrLines</td>\n",
       "      <td>Number of mortgage and real estate loans including home equity lines of credit</td>\n",
       "      <td>integer</td>\n",
       "    </tr>\n",
       "    <tr>\n",
       "      <th>9</th>\n",
       "      <td>NumberOfTime60-89DaysPastDueNotWorse</td>\n",
       "      <td>Number of times borrower has been 60-89 days past due but no worse in the last 2 years.</td>\n",
       "      <td>integer</td>\n",
       "    </tr>\n",
       "    <tr>\n",
       "      <th>10</th>\n",
       "      <td>NumberOfDependents</td>\n",
       "      <td>Number of dependents in family excluding themselves (spouse, children etc.)</td>\n",
       "      <td>integer</td>\n",
       "    </tr>\n",
       "  </tbody>\n",
       "</table>\n",
       "</div>"
      ],
      "text/plain": [
       "                           Variable Name  \\\n",
       "0   SeriousDlqin2yrs                       \n",
       "1   RevolvingUtilizationOfUnsecuredLines   \n",
       "2   age                                    \n",
       "3   NumberOfTime30-59DaysPastDueNotWorse   \n",
       "4   DebtRatio                              \n",
       "5   MonthlyIncome                          \n",
       "6   NumberOfOpenCreditLinesAndLoans        \n",
       "7   NumberOfTimes90DaysLate                \n",
       "8   NumberRealEstateLoansOrLines           \n",
       "9   NumberOfTime60-89DaysPastDueNotWorse   \n",
       "10  NumberOfDependents                     \n",
       "\n",
       "                                                                                                                                                 Description  \\\n",
       "0   Person experienced 90 days past due delinquency or worse                                                                                                   \n",
       "1   Total balance on credit cards and personal lines of credit except real estate and no installment debt like car loans divided by the sum of credit limits   \n",
       "2   Age of borrower in years                                                                                                                                   \n",
       "3   Number of times borrower has been 30-59 days past due but no worse in the last 2 years.                                                                    \n",
       "4   Monthly debt payments, alimony,living costs divided by monthy gross income                                                                                 \n",
       "5   Monthly income                                                                                                                                             \n",
       "6   Number of Open loans (installment like car loan or mortgage) and Lines of credit (e.g. credit cards)                                                       \n",
       "7   Number of times borrower has been 90 days or more past due.                                                                                                \n",
       "8   Number of mortgage and real estate loans including home equity lines of credit                                                                             \n",
       "9   Number of times borrower has been 60-89 days past due but no worse in the last 2 years.                                                                    \n",
       "10  Number of dependents in family excluding themselves (spouse, children etc.)                                                                                \n",
       "\n",
       "          Type  \n",
       "0   Y/N         \n",
       "1   percentage  \n",
       "2   integer     \n",
       "3   integer     \n",
       "4   percentage  \n",
       "5   real        \n",
       "6   integer     \n",
       "7   integer     \n",
       "8   integer     \n",
       "9   integer     \n",
       "10  integer     "
      ]
     },
     "metadata": {},
     "output_type": "display_data"
    }
   ],
   "source": [
    "pd.set_option('max_colwidth', -1)\n",
    "display(df_data_dictionary)\n",
    "pd.reset_option('max_colwidth')"
   ]
  },
  {
   "cell_type": "code",
   "execution_count": 4,
   "metadata": {},
   "outputs": [
    {
     "data": {
      "text/html": [
       "<div>\n",
       "<style scoped>\n",
       "    .dataframe tbody tr th:only-of-type {\n",
       "        vertical-align: middle;\n",
       "    }\n",
       "\n",
       "    .dataframe tbody tr th {\n",
       "        vertical-align: top;\n",
       "    }\n",
       "\n",
       "    .dataframe thead th {\n",
       "        text-align: right;\n",
       "    }\n",
       "</style>\n",
       "<table border=\"1\" class=\"dataframe\">\n",
       "  <thead>\n",
       "    <tr style=\"text-align: right;\">\n",
       "      <th></th>\n",
       "      <th>SeriousDlqin2yrs</th>\n",
       "      <th>RevolvingUtilizationOfUnsecuredLines</th>\n",
       "      <th>age</th>\n",
       "      <th>NumberOfTime30-59DaysPastDueNotWorse</th>\n",
       "      <th>DebtRatio</th>\n",
       "      <th>MonthlyIncome</th>\n",
       "      <th>NumberOfOpenCreditLinesAndLoans</th>\n",
       "      <th>NumberOfTimes90DaysLate</th>\n",
       "      <th>NumberRealEstateLoansOrLines</th>\n",
       "      <th>NumberOfTime60-89DaysPastDueNotWorse</th>\n",
       "      <th>NumberOfDependents</th>\n",
       "    </tr>\n",
       "  </thead>\n",
       "  <tbody>\n",
       "    <tr>\n",
       "      <th>1</th>\n",
       "      <td>1</td>\n",
       "      <td>0.766127</td>\n",
       "      <td>45</td>\n",
       "      <td>2</td>\n",
       "      <td>0.802982</td>\n",
       "      <td>9120.0</td>\n",
       "      <td>13</td>\n",
       "      <td>0</td>\n",
       "      <td>6</td>\n",
       "      <td>0</td>\n",
       "      <td>2.0</td>\n",
       "    </tr>\n",
       "    <tr>\n",
       "      <th>2</th>\n",
       "      <td>0</td>\n",
       "      <td>0.957151</td>\n",
       "      <td>40</td>\n",
       "      <td>0</td>\n",
       "      <td>0.121876</td>\n",
       "      <td>2600.0</td>\n",
       "      <td>4</td>\n",
       "      <td>0</td>\n",
       "      <td>0</td>\n",
       "      <td>0</td>\n",
       "      <td>1.0</td>\n",
       "    </tr>\n",
       "    <tr>\n",
       "      <th>3</th>\n",
       "      <td>0</td>\n",
       "      <td>0.658180</td>\n",
       "      <td>38</td>\n",
       "      <td>1</td>\n",
       "      <td>0.085113</td>\n",
       "      <td>3042.0</td>\n",
       "      <td>2</td>\n",
       "      <td>1</td>\n",
       "      <td>0</td>\n",
       "      <td>0</td>\n",
       "      <td>0.0</td>\n",
       "    </tr>\n",
       "    <tr>\n",
       "      <th>4</th>\n",
       "      <td>0</td>\n",
       "      <td>0.233810</td>\n",
       "      <td>30</td>\n",
       "      <td>0</td>\n",
       "      <td>0.036050</td>\n",
       "      <td>3300.0</td>\n",
       "      <td>5</td>\n",
       "      <td>0</td>\n",
       "      <td>0</td>\n",
       "      <td>0</td>\n",
       "      <td>0.0</td>\n",
       "    </tr>\n",
       "    <tr>\n",
       "      <th>5</th>\n",
       "      <td>0</td>\n",
       "      <td>0.907239</td>\n",
       "      <td>49</td>\n",
       "      <td>1</td>\n",
       "      <td>0.024926</td>\n",
       "      <td>63588.0</td>\n",
       "      <td>7</td>\n",
       "      <td>0</td>\n",
       "      <td>1</td>\n",
       "      <td>0</td>\n",
       "      <td>0.0</td>\n",
       "    </tr>\n",
       "  </tbody>\n",
       "</table>\n",
       "</div>"
      ],
      "text/plain": [
       "   SeriousDlqin2yrs  RevolvingUtilizationOfUnsecuredLines  age  \\\n",
       "1                 1                              0.766127   45   \n",
       "2                 0                              0.957151   40   \n",
       "3                 0                              0.658180   38   \n",
       "4                 0                              0.233810   30   \n",
       "5                 0                              0.907239   49   \n",
       "\n",
       "   NumberOfTime30-59DaysPastDueNotWorse  DebtRatio  MonthlyIncome  \\\n",
       "1                                     2   0.802982         9120.0   \n",
       "2                                     0   0.121876         2600.0   \n",
       "3                                     1   0.085113         3042.0   \n",
       "4                                     0   0.036050         3300.0   \n",
       "5                                     1   0.024926        63588.0   \n",
       "\n",
       "   NumberOfOpenCreditLinesAndLoans  NumberOfTimes90DaysLate  \\\n",
       "1                               13                        0   \n",
       "2                                4                        0   \n",
       "3                                2                        1   \n",
       "4                                5                        0   \n",
       "5                                7                        0   \n",
       "\n",
       "   NumberRealEstateLoansOrLines  NumberOfTime60-89DaysPastDueNotWorse  \\\n",
       "1                             6                                     0   \n",
       "2                             0                                     0   \n",
       "3                             0                                     0   \n",
       "4                             0                                     0   \n",
       "5                             1                                     0   \n",
       "\n",
       "   NumberOfDependents  \n",
       "1                 2.0  \n",
       "2                 1.0  \n",
       "3                 0.0  \n",
       "4                 0.0  \n",
       "5                 0.0  "
      ]
     },
     "execution_count": 4,
     "metadata": {},
     "output_type": "execute_result"
    }
   ],
   "source": [
    "df_train.head()"
   ]
  },
  {
   "cell_type": "markdown",
   "metadata": {},
   "source": [
    "### Train/Test Data Exploratory. \n",
    "\n",
    "First we want to know the dimension of the dataset"
   ]
  },
  {
   "cell_type": "code",
   "execution_count": 5,
   "metadata": {},
   "outputs": [
    {
     "name": "stdout",
     "output_type": "stream",
     "text": [
      "(150000, 11)\n",
      "(101503, 11)\n"
     ]
    }
   ],
   "source": [
    "print df_train.shape\n",
    "print df_test.shape"
   ]
  },
  {
   "cell_type": "code",
   "execution_count": 6,
   "metadata": {},
   "outputs": [
    {
     "data": {
      "text/plain": [
       "Index([u'SeriousDlqin2yrs', u'RevolvingUtilizationOfUnsecuredLines', u'age',\n",
       "       u'NumberOfTime30-59DaysPastDueNotWorse', u'DebtRatio', u'MonthlyIncome',\n",
       "       u'NumberOfOpenCreditLinesAndLoans', u'NumberOfTimes90DaysLate',\n",
       "       u'NumberRealEstateLoansOrLines',\n",
       "       u'NumberOfTime60-89DaysPastDueNotWorse', u'NumberOfDependents'],\n",
       "      dtype='object')"
      ]
     },
     "execution_count": 6,
     "metadata": {},
     "output_type": "execute_result"
    }
   ],
   "source": [
    "df_train.columns"
   ]
  },
  {
   "cell_type": "markdown",
   "metadata": {},
   "source": [
    "As the column names of the dataset is too long, I will create a dummy variable which stores the column names of the train & test dataset"
   ]
  },
  {
   "cell_type": "code",
   "execution_count": 7,
   "metadata": {},
   "outputs": [],
   "source": [
    "DLQN = 'SeriousDlqin2yrs'\n",
    "REVOLVE = 'RevolvingUtilizationOfUnsecuredLines'\n",
    "AGE = 'age'\n",
    "PASTDUE_30_59 = 'NumberOfTime30-59DaysPastDueNotWorse'\n",
    "DEBT_RATIO = 'DebtRatio'\n",
    "MONTHLY_INCOME = 'MonthlyIncome'\n",
    "OPEN_CREDIT_LOAN = 'NumberOfOpenCreditLinesAndLoans'\n",
    "PASTDUE_90 = 'NumberOfTimes90DaysLate'\n",
    "ESTATE_LOAN = 'NumberRealEstateLoansOrLines'\n",
    "PASTDUE_60_89 = 'NumberOfTime60-89DaysPastDueNotWorse'\n",
    "DEPENDENTS = 'NumberOfDependents'"
   ]
  },
  {
   "cell_type": "code",
   "execution_count": 8,
   "metadata": {},
   "outputs": [
    {
     "data": {
      "text/plain": [
       "SeriousDlqin2yrs                            0\n",
       "RevolvingUtilizationOfUnsecuredLines        0\n",
       "age                                         0\n",
       "NumberOfTime30-59DaysPastDueNotWorse        0\n",
       "DebtRatio                                   0\n",
       "MonthlyIncome                           29731\n",
       "NumberOfOpenCreditLinesAndLoans             0\n",
       "NumberOfTimes90DaysLate                     0\n",
       "NumberRealEstateLoansOrLines                0\n",
       "NumberOfTime60-89DaysPastDueNotWorse        0\n",
       "NumberOfDependents                       3924\n",
       "dtype: int64"
      ]
     },
     "execution_count": 8,
     "metadata": {},
     "output_type": "execute_result"
    }
   ],
   "source": [
    "df_train.isnull().sum()"
   ]
  },
  {
   "cell_type": "markdown",
   "metadata": {},
   "source": [
    "A few notable observations:\n",
    "\n",
    "- There are empty Values in the Monthly Income.\n",
    "- There are empty Values in the Number of Dependents. \n",
    "\n",
    "Therefore, we need to decide how will we fill up this values / remove this observations"
   ]
  },
  {
   "cell_type": "markdown",
   "metadata": {},
   "source": [
    "Then, we can try to find the proportion of the person who are experiencing the financial distress within 2 years in our training dataset. From the plot, we can see that the proportion of those people is relatively small in our dataset. Therefore, we could try to employ several techniques that help to make our model more robust against imbalanced datasets"
   ]
  },
  {
   "cell_type": "code",
   "execution_count": 9,
   "metadata": {},
   "outputs": [
    {
     "data": {
      "image/png": "[encoded data removed]",
      "text/plain": [
       "<matplotlib.figure.Figure at 0x7ffaa3751d10>"
      ]
     },
     "metadata": {},
     "output_type": "display_data"
    }
   ],
   "source": [
    "dlqn = df_train[DLQN].values\n",
    "sns.countplot(dlqn).set_title('Proportion of ' + DLQN)\n",
    "plt.show()"
   ]
  },
  {
   "cell_type": "markdown",
   "metadata": {},
   "source": [
    "Next, we would like to explore the `RevolvingUtilizationOfUnsecuredLines` column. This is defined as the ratio of loan balance on credit cards and personal lines divided by the credit limits. Even though it is plausible to have a ratio bigger than 1., I am not entirely sure whether these values are outliers or not. Some values of `RevolvingUtilizationOfUnsecuredLines` within the train dataset is also extraordinarily large. "
   ]
  },
  {
   "cell_type": "code",
   "execution_count": 20,
   "metadata": {},
   "outputs": [
    {
     "name": "stdout",
     "output_type": "stream",
     "text": [
      "Total RevolvingUtilizationOfUnsecuredLines :150000\n",
      "Total RevolvingUtilizationOfUnsecuredLines > 1.0 : 3321\n",
      "Total RevolvingUtilizationOfUnsecuredLines > 1.5 : 600\n",
      "Total RevolvingUtilizationOfUnsecuredLines > 2.0 : 371\n",
      "Total RevolvingUtilizationOfUnsecuredLines > 5.0 : 254\n",
      "Total RevolvingUtilizationOfUnsecuredLines > 100.0 : 223\n"
     ]
    }
   ],
   "source": [
    "revolve = df_train[REVOLVE]\n",
    "print \"Total RevolvingUtilizationOfUnsecuredLines :\" \\\n",
    "+ str(len(revolve))\n",
    "print \"Total RevolvingUtilizationOfUnsecuredLines > 1.0 : \"\\\n",
    "+ str(len(np.where(revolve > 1.0)[0]))\n",
    "print \"Total RevolvingUtilizationOfUnsecuredLines > 1.5 : \"\\\n",
    "+ str(len(np.where(revolve > 1.5)[0]))\n",
    "print \"Total RevolvingUtilizationOfUnsecuredLines > 2.0 : \"\\\n",
    "+ str(len(np.where(revolve > 2.0)[0]))\n",
    "print \"Total RevolvingUtilizationOfUnsecuredLines > 5.0 : \"\\\n",
    "+ str(len(np.where(revolve > 5.0)[0]))\n",
    "print \"Total RevolvingUtilizationOfUnsecuredLines > 100.0 : \"\\\n",
    "+ str(len(np.where(revolve > 100.0)[0]))\n",
    "\n",
    "no_out_revolve = np.where(revolve > 1.0, 1.0, revolve)"
   ]
  },
  {
   "cell_type": "code",
   "execution_count": 21,
   "metadata": {},
   "outputs": [
    {
     "data": {
      "image/png": "[encoded data removed]",
      "text/plain": [
       "<matplotlib.figure.Figure at 0x7ffa9945dc90>"
      ]
     },
     "metadata": {},
     "output_type": "display_data"
    }
   ],
   "source": [
    "fig, axes = plt.subplots(nrows = 2)\n",
    "sns.distplot(revolve, ax = axes[0]).\\\n",
    "set_title('Distribution plot of ' + REVOLVE)\n",
    "sns.distplot(no_out_revolve, ax = axes[1]).\\\n",
    "set_title('Distribution plot of ' + REVOLVE + ' without Outliers')\n",
    "plt.tight_layout()\n",
    "plt.show()"
   ]
  },
  {
   "cell_type": "code",
   "execution_count": 12,
   "metadata": {},
   "outputs": [
    {
     "data": {
      "image/png": "[encoded data removed]",
      "text/plain": [
       "<matplotlib.figure.Figure at 0x7ffaa29c0790>"
      ]
     },
     "metadata": {},
     "output_type": "display_data"
    }
   ],
   "source": [
    "sns.boxplot(x = dlqn, y = no_out_revolve).set_title(REVOLVE  + ' vs ' + DLQN)\n",
    "plt.show()"
   ]
  },
  {
   "cell_type": "markdown",
   "metadata": {},
   "source": [
    "Next, we will check outlier values in the `Age` column. Most of the observations fall between 21 - 100, with the exception of few observations. As the number is very insignificant, we will force this values to be between 21 -100 as it will be hard for the model to learn about these features if the number of observation is too small"
   ]
  },
  {
   "cell_type": "code",
   "execution_count": 16,
   "metadata": {},
   "outputs": [
    {
     "data": {
      "text/html": [
       "<div>\n",
       "<style scoped>\n",
       "    .dataframe tbody tr th:only-of-type {\n",
       "        vertical-align: middle;\n",
       "    }\n",
       "\n",
       "    .dataframe tbody tr th {\n",
       "        vertical-align: top;\n",
       "    }\n",
       "\n",
       "    .dataframe thead th {\n",
       "        text-align: right;\n",
       "    }\n",
       "</style>\n",
       "<table border=\"1\" class=\"dataframe\">\n",
       "  <thead>\n",
       "    <tr style=\"text-align: right;\">\n",
       "      <th></th>\n",
       "      <th>age</th>\n",
       "      <th>total</th>\n",
       "    </tr>\n",
       "  </thead>\n",
       "  <tbody>\n",
       "    <tr>\n",
       "      <th>0</th>\n",
       "      <td>0</td>\n",
       "      <td>1</td>\n",
       "    </tr>\n",
       "    <tr>\n",
       "      <th>80</th>\n",
       "      <td>101</td>\n",
       "      <td>3</td>\n",
       "    </tr>\n",
       "    <tr>\n",
       "      <th>81</th>\n",
       "      <td>102</td>\n",
       "      <td>3</td>\n",
       "    </tr>\n",
       "    <tr>\n",
       "      <th>82</th>\n",
       "      <td>103</td>\n",
       "      <td>3</td>\n",
       "    </tr>\n",
       "    <tr>\n",
       "      <th>83</th>\n",
       "      <td>105</td>\n",
       "      <td>1</td>\n",
       "    </tr>\n",
       "    <tr>\n",
       "      <th>84</th>\n",
       "      <td>107</td>\n",
       "      <td>1</td>\n",
       "    </tr>\n",
       "    <tr>\n",
       "      <th>85</th>\n",
       "      <td>109</td>\n",
       "      <td>2</td>\n",
       "    </tr>\n",
       "  </tbody>\n",
       "</table>\n",
       "</div>"
      ],
      "text/plain": [
       "    age  total\n",
       "0     0      1\n",
       "80  101      3\n",
       "81  102      3\n",
       "82  103      3\n",
       "83  105      1\n",
       "84  107      1\n",
       "85  109      2"
      ]
     },
     "execution_count": 16,
     "metadata": {},
     "output_type": "execute_result"
    }
   ],
   "source": [
    "age = df_train[AGE].values\n",
    "counter = Counter(age)\n",
    "df_count =  pd.DataFrame.from_dict(counter, orient='index').reset_index()\n",
    "df_count.columns = [AGE, 'total']\n",
    "df_count[(df_count.age < 21 )| (df_count.age > 100)]"
   ]
  },
  {
   "cell_type": "code",
   "execution_count": 17,
   "metadata": {},
   "outputs": [],
   "source": [
    "no_out_age = np.where(age < 21, 21, age)\n",
    "no_out_age = np.where(no_out_age > 100, 100, no_out_age)\n",
    "counter = Counter(no_out_age)\n",
    "df_count =  pd.DataFrame.from_dict(counter, orient='index').reset_index()\n",
    "df_count.columns = [AGE, 'total']"
   ]
  },
  {
   "cell_type": "markdown",
   "metadata": {},
   "source": [
    "Even though the difference distribution of the `age` between financially distressed and non financially distressed person is not as distinct as `RevolvingUtilizationOfUnsecuredLines`, it is still a good feature to predict the probability of financial distress."
   ]
  },
  {
   "cell_type": "code",
   "execution_count": 18,
   "metadata": {
    "scrolled": true
   },
   "outputs": [
    {
     "data": {
      "image/png": "[encoded data removed]",
      "text/plain": [
       "<matplotlib.figure.Figure at 0x7ffa995b0bd0>"
      ]
     },
     "metadata": {},
     "output_type": "display_data"
    }
   ],
   "source": [
    "sns.boxplot(x = dlqn, y = no_out_age).set_title(AGE  + ' vs ' + DLQN)\n",
    "plt.show()"
   ]
  },
  {
   "cell_type": "markdown",
   "metadata": {},
   "source": [
    "Next, we will check The distribution of values for Past due 30-59, Past due 60 - 89, and Past due more than 90 days column. After displaying the distribution of values, we observe that there are a lot of observation with value 98 and 96. After checking the discussion forum on Kaggle, it is deduced that 98 and 96 is a code for indicating that there are no information available for the particular client. Thus, we need to transform those values into 0."
   ]
  },
  {
   "cell_type": "code",
   "execution_count": 23,
   "metadata": {},
   "outputs": [
    {
     "data": {
      "text/html": [
       "<div>\n",
       "<style scoped>\n",
       "    .dataframe tbody tr th:only-of-type {\n",
       "        vertical-align: middle;\n",
       "    }\n",
       "\n",
       "    .dataframe tbody tr th {\n",
       "        vertical-align: top;\n",
       "    }\n",
       "\n",
       "    .dataframe thead th {\n",
       "        text-align: right;\n",
       "    }\n",
       "</style>\n",
       "<table border=\"1\" class=\"dataframe\">\n",
       "  <thead>\n",
       "    <tr style=\"text-align: right;\">\n",
       "      <th></th>\n",
       "      <th>number_pastdue</th>\n",
       "      <th>count_30</th>\n",
       "      <th>count_60</th>\n",
       "      <th>count_90</th>\n",
       "    </tr>\n",
       "  </thead>\n",
       "  <tbody>\n",
       "    <tr>\n",
       "      <th>0</th>\n",
       "      <td>0.0</td>\n",
       "      <td>126018.0</td>\n",
       "      <td>142396.0</td>\n",
       "      <td>141662</td>\n",
       "    </tr>\n",
       "    <tr>\n",
       "      <th>1</th>\n",
       "      <td>1.0</td>\n",
       "      <td>16033.0</td>\n",
       "      <td>5731.0</td>\n",
       "      <td>5243</td>\n",
       "    </tr>\n",
       "    <tr>\n",
       "      <th>2</th>\n",
       "      <td>2.0</td>\n",
       "      <td>4598.0</td>\n",
       "      <td>1118.0</td>\n",
       "      <td>1555</td>\n",
       "    </tr>\n",
       "    <tr>\n",
       "      <th>3</th>\n",
       "      <td>3.0</td>\n",
       "      <td>1754.0</td>\n",
       "      <td>318.0</td>\n",
       "      <td>667</td>\n",
       "    </tr>\n",
       "    <tr>\n",
       "      <th>4</th>\n",
       "      <td>4.0</td>\n",
       "      <td>747.0</td>\n",
       "      <td>105.0</td>\n",
       "      <td>291</td>\n",
       "    </tr>\n",
       "    <tr>\n",
       "      <th>5</th>\n",
       "      <td>5.0</td>\n",
       "      <td>342.0</td>\n",
       "      <td>34.0</td>\n",
       "      <td>131</td>\n",
       "    </tr>\n",
       "    <tr>\n",
       "      <th>6</th>\n",
       "      <td>6.0</td>\n",
       "      <td>140.0</td>\n",
       "      <td>16.0</td>\n",
       "      <td>80</td>\n",
       "    </tr>\n",
       "    <tr>\n",
       "      <th>7</th>\n",
       "      <td>7.0</td>\n",
       "      <td>54.0</td>\n",
       "      <td>9.0</td>\n",
       "      <td>38</td>\n",
       "    </tr>\n",
       "    <tr>\n",
       "      <th>8</th>\n",
       "      <td>8.0</td>\n",
       "      <td>25.0</td>\n",
       "      <td>2.0</td>\n",
       "      <td>21</td>\n",
       "    </tr>\n",
       "    <tr>\n",
       "      <th>9</th>\n",
       "      <td>9.0</td>\n",
       "      <td>12.0</td>\n",
       "      <td>1.0</td>\n",
       "      <td>19</td>\n",
       "    </tr>\n",
       "    <tr>\n",
       "      <th>10</th>\n",
       "      <td>10.0</td>\n",
       "      <td>4.0</td>\n",
       "      <td>0.0</td>\n",
       "      <td>8</td>\n",
       "    </tr>\n",
       "    <tr>\n",
       "      <th>11</th>\n",
       "      <td>11.0</td>\n",
       "      <td>1.0</td>\n",
       "      <td>1.0</td>\n",
       "      <td>5</td>\n",
       "    </tr>\n",
       "    <tr>\n",
       "      <th>12</th>\n",
       "      <td>12.0</td>\n",
       "      <td>2.0</td>\n",
       "      <td>0.0</td>\n",
       "      <td>2</td>\n",
       "    </tr>\n",
       "    <tr>\n",
       "      <th>13</th>\n",
       "      <td>98.0</td>\n",
       "      <td>264.0</td>\n",
       "      <td>264.0</td>\n",
       "      <td>264</td>\n",
       "    </tr>\n",
       "    <tr>\n",
       "      <th>14</th>\n",
       "      <td>96.0</td>\n",
       "      <td>5.0</td>\n",
       "      <td>5.0</td>\n",
       "      <td>5</td>\n",
       "    </tr>\n",
       "    <tr>\n",
       "      <th>15</th>\n",
       "      <td>13.0</td>\n",
       "      <td>1.0</td>\n",
       "      <td>0.0</td>\n",
       "      <td>4</td>\n",
       "    </tr>\n",
       "    <tr>\n",
       "      <th>16</th>\n",
       "      <td>15.0</td>\n",
       "      <td>0.0</td>\n",
       "      <td>0.0</td>\n",
       "      <td>2</td>\n",
       "    </tr>\n",
       "    <tr>\n",
       "      <th>17</th>\n",
       "      <td>17.0</td>\n",
       "      <td>0.0</td>\n",
       "      <td>0.0</td>\n",
       "      <td>1</td>\n",
       "    </tr>\n",
       "    <tr>\n",
       "      <th>18</th>\n",
       "      <td>14.0</td>\n",
       "      <td>0.0</td>\n",
       "      <td>0.0</td>\n",
       "      <td>2</td>\n",
       "    </tr>\n",
       "  </tbody>\n",
       "</table>\n",
       "</div>"
      ],
      "text/plain": [
       "    number_pastdue  count_30  count_60  count_90\n",
       "0              0.0  126018.0  142396.0    141662\n",
       "1              1.0   16033.0    5731.0      5243\n",
       "2              2.0    4598.0    1118.0      1555\n",
       "3              3.0    1754.0     318.0       667\n",
       "4              4.0     747.0     105.0       291\n",
       "5              5.0     342.0      34.0       131\n",
       "6              6.0     140.0      16.0        80\n",
       "7              7.0      54.0       9.0        38\n",
       "8              8.0      25.0       2.0        21\n",
       "9              9.0      12.0       1.0        19\n",
       "10            10.0       4.0       0.0         8\n",
       "11            11.0       1.0       1.0         5\n",
       "12            12.0       2.0       0.0         2\n",
       "13            98.0     264.0     264.0       264\n",
       "14            96.0       5.0       5.0         5\n",
       "15            13.0       1.0       0.0         4\n",
       "16            15.0       0.0       0.0         2\n",
       "17            17.0       0.0       0.0         1\n",
       "18            14.0       0.0       0.0         2"
      ]
     },
     "metadata": {},
     "output_type": "display_data"
    }
   ],
   "source": [
    "pastdue_30_59 = df_train[PASTDUE_30_59].values.astype(float)\n",
    "pastdue_60_89 = df_train[PASTDUE_60_89].values.astype(float)\n",
    "pastdue_90 = df_train[PASTDUE_90].values.astype(float)\n",
    "df_30 =  pd.DataFrame.from_dict(Counter(pastdue_30_59),\n",
    "                                orient='index').reset_index()\n",
    "df_30.columns = ['number_pastdue', 'count_30']\n",
    "df_60 = pd.DataFrame.from_dict(Counter(pastdue_60_89),\n",
    "                               orient='index').reset_index()\n",
    "df_60.columns = ['number_pastdue', 'count_60']\n",
    "df_90 = pd.DataFrame.from_dict(Counter(pastdue_90), \n",
    "                               orient ='index').reset_index()\n",
    "df_90.columns = ['number_pastdue', 'count_90']\n",
    "\n",
    "list_df = [df_30, df_60, df_90]\n",
    "df_final = \\\n",
    "reduce(lambda left,right: pd.merge(left,\n",
    "                                   right,on='number_pastdue',\n",
    "                                   how='outer'), list_df)\n",
    "df_final = df_final.fillna(0.0)\n",
    "display(df_final)\n",
    "\n",
    "no_out_pastdue_30_59 = \\\n",
    "np.where(np.logical_or(pastdue_30_59 == 96. ,\n",
    "                       pastdue_30_59 == 98.),\n",
    "         0., pastdue_30_59)\n",
    "no_out_pastdue_60_89 = \\\n",
    "np.where(np.logical_or(pastdue_60_89 == 96.,\n",
    "                       pastdue_60_89 == 98.),\n",
    "         0., pastdue_60_89)\n",
    "no_out_pastdue_90 =\\\n",
    "np.where(np.logical_or(pastdue_90 == 96. ,\n",
    "                       pastdue_90 == 98.),\n",
    "         0., pastdue_90)"
   ]
  },
  {
   "cell_type": "markdown",
   "metadata": {},
   "source": [
    "From the box plot below, we can see that most of the people who does not have financial distress in the next 2 years never had any bad debt at all. Thus, this is also a good feature to predict the probability of financial distress"
   ]
  },
  {
   "cell_type": "code",
   "execution_count": 24,
   "metadata": {},
   "outputs": [
    {
     "data": {
      "image/png": "[encoded data removed]",
      "text/plain": [
       "<matplotlib.figure.Figure at 0x7ffa99322b10>"
      ]
     },
     "metadata": {},
     "output_type": "display_data"
    }
   ],
   "source": [
    "fig, axes = plt.subplots(ncols=3, figsize=(20,10))\n",
    "sns.boxplot(x = dlqn, \n",
    "            y = no_out_pastdue_30_59, ax=axes[0])\\\n",
    ".set_title(PASTDUE_30_59  + ' vs ' + DLQN)\n",
    "sns.boxplot(x = dlqn, y = no_out_pastdue_60_89, ax=axes[1])\\\n",
    ".set_title(PASTDUE_60_89  + ' vs ' + DLQN)\n",
    "sns.boxplot(x = dlqn, y = no_out_pastdue_90, ax=axes[2])\\\n",
    ".set_title(PASTDUE_90  + ' vs ' + DLQN)\n",
    "plt.tight_layout()\n",
    "plt.show()"
   ]
  },
  {
   "cell_type": "markdown",
   "metadata": {},
   "source": [
    "Similar to `RevolvingUtilizationOfUnsecuredLines`, few observations of `monthly_income` is particularly high compared to the rest of the values. Therefore, we need to put a higher boundary in the `monthly_income` value. After looking at the data, we decide to put the higher boundary at 20000.0"
   ]
  },
  {
   "cell_type": "code",
   "execution_count": 34,
   "metadata": {},
   "outputs": [
    {
     "name": "stdout",
     "output_type": "stream",
     "text": [
      "Total monthly_income :150000\n",
      "Total monthly_income > 1000.0 : 145205\n",
      "Total monthly_income > 10000.0 : 18319\n",
      "Total monthly_income > 20000.0 : 2103\n",
      "Total monthly_income > 50000.0 : 301\n",
      "Total monthly_income > 100000.0 : 70\n"
     ]
    }
   ],
   "source": [
    "monthly_income = df_train[MONTHLY_INCOME]\n",
    "monthly_income = np.where(pd.isnull(monthly_income),\n",
    "                          np.nanmedian(monthly_income),\n",
    "                          monthly_income)\n",
    "print \"Total monthly_income :\" + str(len(monthly_income))\n",
    "print \"Total monthly_income > 1000.0 : \" +\\\n",
    "str(len(np.where(monthly_income > 1000.0)[0]))\n",
    "print \"Total monthly_income > 10000.0 : \" +\\\n",
    "str(len(np.where(monthly_income > 10000.0)[0]))\n",
    "print \"Total monthly_income > 20000.0 : \" + \\\n",
    "str(len(np.where(monthly_income > 20000.0)[0]))\n",
    "print \"Total monthly_income > 50000.0 : \" + \\\n",
    "str(len(np.where(monthly_income > 50000.0)[0]))\n",
    "print \"Total monthly_income > 100000.0 : \" +\\\n",
    "str(len(np.where(monthly_income > 100000.0)[0]))\n",
    "no_out_monthly_income = np.where(monthly_income > 20000.0,\n",
    "                                 np.nanmedian(monthly_income), \n",
    "                                 monthly_income)"
   ]
  },
  {
   "cell_type": "code",
   "execution_count": 27,
   "metadata": {},
   "outputs": [
    {
     "data": {
      "image/png": "[encoded data removed]",
      "text/plain": [
       "<matplotlib.figure.Figure at 0x7ffa98d76bd0>"
      ]
     },
     "metadata": {},
     "output_type": "display_data"
    }
   ],
   "source": [
    "fig, axes = plt.subplots(nrows = 2)\n",
    "sns.distplot(monthly_income, ax = axes[0]).\\\n",
    "set_title('distplot of ' + str(MONTHLY_INCOME))\n",
    "sns.distplot(no_out_monthly_income).\\\n",
    "set_title('distplot of ' + str(MONTHLY_INCOME) + ' without outlier')\n",
    "plt.tight_layout()\n",
    "plt.show()"
   ]
  },
  {
   "cell_type": "markdown",
   "metadata": {},
   "source": [
    "We will also remove all outlier values under `DebtRatio` column"
   ]
  },
  {
   "cell_type": "code",
   "execution_count": 28,
   "metadata": {},
   "outputs": [
    {
     "name": "stdout",
     "output_type": "stream",
     "text": [
      "Total debtratio :150000\n",
      "Total debtratio > 100.0 : 24380\n",
      "Total debtratio > 1000.0 : 16892\n",
      "Total debtratio > 5000.0 : 1481\n",
      "Total debtratio > 10000.0 : 180\n"
     ]
    }
   ],
   "source": [
    "debtratio = df_train[DEBT_RATIO].values\n",
    "print \"Total debtratio :\" + str(len(debtratio))\n",
    "print \"Total debtratio > 100.0 : \" +\\\n",
    "str(len(np.where(debtratio > 100.0)[0]))\n",
    "print \"Total debtratio > 1000.0 : \" +\\\n",
    "str(len(np.where(debtratio > 1000.0)[0]))\n",
    "print \"Total debtratio > 5000.0 : \" + \\\n",
    "str(len(np.where(debtratio > 5000.0)[0]))\n",
    "print \"Total debtratio > 10000.0 : \" + \\\n",
    "str(len(np.where(debtratio > 10000.0)[0]))"
   ]
  },
  {
   "cell_type": "code",
   "execution_count": 29,
   "metadata": {},
   "outputs": [],
   "source": [
    "no_out_ratio = np.where(debtratio > 5000.0, 5000.0, debtratio)"
   ]
  },
  {
   "cell_type": "markdown",
   "metadata": {},
   "source": [
    "The distribution of the values for `NumberOfOpenCreditLinesAndLoans`, `NumberRealEstateLoansOrLines`, and `NumberOfDependents` looks reasonable. Therefore, we do not perform any modification to these values."
   ]
  },
  {
   "cell_type": "code",
   "execution_count": 30,
   "metadata": {},
   "outputs": [
    {
     "data": {
      "text/plain": [
       "<matplotlib.axes._subplots.AxesSubplot at 0x7ffa98d6cc50>"
      ]
     },
     "execution_count": 30,
     "metadata": {},
     "output_type": "execute_result"
    },
    {
     "data": {
      "image/png": "[encoded data removed]",
      "text/plain": [
       "<matplotlib.figure.Figure at 0x7ffa99370510>"
      ]
     },
     "metadata": {},
     "output_type": "display_data"
    }
   ],
   "source": [
    "open_credit_loan = df_train[OPEN_CREDIT_LOAN].values\n",
    "sns.distplot(open_credit_loan)"
   ]
  },
  {
   "cell_type": "code",
   "execution_count": 31,
   "metadata": {},
   "outputs": [
    {
     "data": {
      "text/plain": [
       "<matplotlib.axes._subplots.AxesSubplot at 0x7ffa99067450>"
      ]
     },
     "execution_count": 31,
     "metadata": {},
     "output_type": "execute_result"
    },
    {
     "data": {
      "image/png": "[encoded data removed]",
      "text/plain": [
       "<matplotlib.figure.Figure at 0x7ffa98f8c550>"
      ]
     },
     "metadata": {},
     "output_type": "display_data"
    }
   ],
   "source": [
    "real_estate_loan = df_train[ESTATE_LOAN].values\n",
    "sns.distplot(real_estate_loan)"
   ]
  },
  {
   "cell_type": "code",
   "execution_count": 32,
   "metadata": {},
   "outputs": [
    {
     "data": {
      "text/plain": [
       "<matplotlib.axes._subplots.AxesSubplot at 0x7ffa993afcd0>"
      ]
     },
     "execution_count": 32,
     "metadata": {},
     "output_type": "execute_result"
    },
    {
     "data": {
      "image/png": "[encoded data removed]",
      "text/plain": [
       "<matplotlib.figure.Figure at 0x7ffa98f0b0d0>"
      ]
     },
     "metadata": {},
     "output_type": "display_data"
    }
   ],
   "source": [
    "dependents = df_train[DEPENDENTS].values\n",
    "dependents = np.where(pd.isnull(dependents), 0.0, dependents)\n",
    "sns.distplot(dependents)"
   ]
  },
  {
   "cell_type": "markdown",
   "metadata": {},
   "source": [
    "We perform the transformation of all the outlier values as well as fill up all missing values according to the rules that we have set during the exploration stage, using the `prepare_dataset` function. we will use this functions to transform our data in both train and test dataset"
   ]
  },
  {
   "cell_type": "code",
   "execution_count": 39,
   "metadata": {},
   "outputs": [],
   "source": [
    "def prepare_dataset(df_train):\n",
    "    revolve = df_train[REVOLVE]\n",
    "    age = df_train[AGE].values\n",
    "    pastdue_30_59 = df_train[PASTDUE_30_59].values.astype(float)\n",
    "    pastdue_60_89 = df_train[PASTDUE_60_89].values.astype(float)\n",
    "    pastdue_90 = df_train[PASTDUE_90].values.astype(float)\n",
    "    monthly_income = df_train[MONTHLY_INCOME]\n",
    "    monthly_income = np.where(pd.isnull(monthly_income), np.nanmedian(monthly_income), monthly_income)\n",
    "    dependents = df_train[DEPENDENTS].values\n",
    "    debtratio = df_train[DEBT_RATIO].values\n",
    "    \n",
    "    no_out_revolve = np.where(revolve > 1.0, 1.0, revolve)\n",
    "    no_out_age = np.where(age < 21, 21, age)\n",
    "    no_out_age = np.where(no_out_age > 100, 100, no_out_age)\n",
    "    no_out_pastdue_30_59 = \\\n",
    "    np.where(np.logical_or(pastdue_30_59 == 96. ,\n",
    "                           pastdue_30_59 == 98.), 0., pastdue_30_59)\n",
    "    no_out_pastdue_60_89 =\\\n",
    "    np.where(np.logical_or(pastdue_60_89 == 96.,\n",
    "                           pastdue_60_89 == 98.), 0., pastdue_60_89)\n",
    "    no_out_pastdue_90 = \\\n",
    "    np.where(np.logical_or(pastdue_90 == 96. ,\n",
    "                           pastdue_90 == 98.), 0., pastdue_90)\n",
    "    no_out_monthly_income =\\\n",
    "    np.where(monthly_income > 20000.0,\n",
    "             np.nanmedian(monthly_income), monthly_income)\n",
    "    no_out_dependents = \\\n",
    "    np.where(pd.isnull(dependents), 0.0, dependents)\n",
    "    no_out_ratio = np.where(debtratio > 5000.0, 5000.0, debtratio)\n",
    "    \n",
    "    df_train[REVOLVE] = no_out_revolve.astype(float)\n",
    "    df_train[AGE] = no_out_age.astype(int)\n",
    "    df_train[PASTDUE_30_59] = no_out_pastdue_30_59.astype(int)\n",
    "    df_train[PASTDUE_60_89] = no_out_pastdue_60_89.astype(int)\n",
    "    df_train[PASTDUE_90] = no_out_pastdue_90.astype(int)\n",
    "    df_train[MONTHLY_INCOME] = no_out_monthly_income.astype(float)\n",
    "    df_train[DEPENDENTS] = no_out_dependents.astype(int)\n",
    "    df_train[DEBT_RATIO] = no_out_ratio.astype(float)\n",
    "    \n",
    "    x_train = df_train[[u'RevolvingUtilizationOfUnsecuredLines', \n",
    "                        u'age',\n",
    "       u'NumberOfTime30-59DaysPastDueNotWorse', u'DebtRatio',\n",
    "                        u'MonthlyIncome',\n",
    "       u'NumberOfOpenCreditLinesAndLoans', \n",
    "                        u'NumberOfTimes90DaysLate',\n",
    "       u'NumberRealEstateLoansOrLines',\n",
    "       u'NumberOfTime60-89DaysPastDueNotWorse',\n",
    "                        u'NumberOfDependents']].values\n",
    "    y_train = df_train['SeriousDlqin2yrs'].values\n",
    "    \n",
    "    return x_train, y_train"
   ]
  },
  {
   "cell_type": "markdown",
   "metadata": {},
   "source": [
    "## Model"
   ]
  },
  {
   "cell_type": "markdown",
   "metadata": {},
   "source": [
    "We can then perform the split within the full training dataset to have validation data. This validation data will be used to measure the accuracy of the predicted probability."
   ]
  },
  {
   "cell_type": "code",
   "execution_count": 40,
   "metadata": {},
   "outputs": [],
   "source": [
    "full_X_train, full_y_train = prepare_dataset(df_train)"
   ]
  },
  {
   "cell_type": "code",
   "execution_count": 41,
   "metadata": {},
   "outputs": [],
   "source": [
    "X_test, y_test = prepare_dataset(df_test)"
   ]
  },
  {
   "cell_type": "code",
   "execution_count": 42,
   "metadata": {},
   "outputs": [],
   "source": [
    "from sklearn.linear_model import LogisticRegressionCV\n",
    "from sklearn.ensemble import AdaBoostClassifier, GradientBoostingClassifier, RandomForestClassifier\n",
    "from sklearn.model_selection import train_test_split, GridSearchCV, RandomizedSearchCV\n",
    "from sklearn.metrics import log_loss"
   ]
  },
  {
   "cell_type": "code",
   "execution_count": 43,
   "metadata": {},
   "outputs": [],
   "source": [
    "X_train, X_val, y_train, y_val = train_test_split(full_X_train, full_y_train, test_size = 0.20)"
   ]
  },
  {
   "cell_type": "markdown",
   "metadata": {},
   "source": [
    "The model that we use in this case is ensemble model between Logistic Regression, Random Forest, and Gradient Boosting Classifier. As we are trying to predict the probability of financial distress in each model, we are able to take the weighted average between each model as our final prediction.\n",
    "\n",
    "- For the Logistic Regression Model, I use `LogisticRegressionCV` function from the `sklearn` package that automatically perform cross validation for different Logistic Regression Model with different values of regularization and automatically chooses the model which minimizes the loss of the CV. \n",
    "\n",
    "- We will also try to fit Gradient Boosting and Random Forest Model. The values for the parameters intially choosed based on my initial guess."
   ]
  },
  {
   "cell_type": "code",
   "execution_count": 44,
   "metadata": {},
   "outputs": [],
   "source": [
    "lr_CV_model = LogisticRegressionCV()\n",
    "lr_CV_model.fit(X_train, y_train)\n",
    "lrm_prob = lr_CV_model.predict_proba(X_val)"
   ]
  },
  {
   "cell_type": "code",
   "execution_count": null,
   "metadata": {},
   "outputs": [],
   "source": [
    "gb_model = GradientBoostingClassifier(loss='deviance', \n",
    "                                      learning_rate=0.02, \n",
    "                                      n_estimators=500, \n",
    "                                      subsample=1.0,\n",
    "                                   min_samples_split= 0.005, \n",
    "                                      min_samples_leaf= 0.005,\n",
    "                                      max_depth=15,\n",
    "                                   init=None, random_state=None,\n",
    "                                      max_features= 0.2, verbose=1)\n",
    "gb_model.fit(X_train, y_train)\n",
    "gb_prob = gb_model.predict_proba(X_val)"
   ]
  },
  {
   "cell_type": "code",
   "execution_count": null,
   "metadata": {},
   "outputs": [],
   "source": [
    "rf_model = RandomForestClassifier(n_estimators=500, \n",
    "                                  criterion='gini', \n",
    "                                  max_depth=3,\n",
    "                                  min_samples_split=7,\n",
    "                               min_samples_leaf= 5,\n",
    "                                  min_weight_fraction_leaf=0.0, \n",
    "                                  max_features=7,\n",
    "                               max_leaf_nodes=None,\n",
    "                                  bootstrap=True, \n",
    "                                  verbose=1)\n",
    "rf_model.fit(X_train, y_train)\n",
    "rf_prob = rf_model.predict_proba(X_val)"
   ]
  },
  {
   "cell_type": "markdown",
   "metadata": {},
   "source": [
    "Looking at the result, we can see that the three model perform relatively well in our validation dataset. We will do this by comparing the negative log loss between the predicted probability of the validation dataset using each model against the true value of the validation dataset"
   ]
  },
  {
   "cell_type": "code",
   "execution_count": 48,
   "metadata": {},
   "outputs": [
    {
     "name": "stdout",
     "output_type": "stream",
     "text": [
      "0.19585695055327748\n",
      "0.1819052662602875\n",
      "0.1915520631753691\n"
     ]
    }
   ],
   "source": [
    "print log_loss(y_val, lrm_prob)\n",
    "print log_loss(y_val, gb_prob)\n",
    "print log_loss(y_val, rf_prob)"
   ]
  },
  {
   "cell_type": "markdown",
   "metadata": {},
   "source": [
    "After ensuring that the three probability works relatively well, we will then fit the full training dataset in our model. We will also perform hyperparameter tuning for our Random Forest Model as well as Gradient Boosting Model. We will use `RandomizedSearchCV`, which allows us to randomly choose set of parameters from the parameter space that we have identified. We will then perform cross validation using the randomly chosen parameter, and calculate the mean negative log loss value. The model will choose the set of parameters which minimizes this Cross Validation value"
   ]
  },
  {
   "cell_type": "code",
   "execution_count": 49,
   "metadata": {},
   "outputs": [],
   "source": [
    "# Utility function to report best scores\n",
    "def report(results, n_top=3):\n",
    "    for i in range(1, n_top + 1):\n",
    "        candidates = np.flatnonzero(results['rank_test_score'] == i)\n",
    "        for candidate in candidates:\n",
    "            print(\"Model with rank: {0}\".format(i))\n",
    "            print(\"Mean validation score: {0:.3f} (std: {1:.3f})\".format(\n",
    "                  results['mean_test_score'][candidate],\n",
    "                  results['std_test_score'][candidate]))\n",
    "            print(\"Parameters: {0}\".format(results['params'][candidate]))\n",
    "            print(\"\")\n"
   ]
  },
  {
   "cell_type": "code",
   "execution_count": null,
   "metadata": {},
   "outputs": [],
   "source": [
    "rf_params = {\"max_depth\": [3, 5, 7, 9 ,12, 15, 25, None],\n",
    "              \"max_features\": [0.1, 0.2, 0.3,\n",
    "                               'sqrt', 0.5 , None],\n",
    "              \"n_estimators\":[500],\n",
    "              \"min_samples_leaf\": [2 ,5, 10, 25, 50, 100]\\\n",
    "             + np.arange(0.001, 0.01, 0.001).tolist(),\n",
    "              \"min_samples_split\": [2 ,5, 10, 25, 50, 100] \\\n",
    "             + np.arange(0.001, 0.01, 0.001).tolist(),\n",
    "              \"bootstrap\": [True, False],\n",
    "              \"criterion\": [\"gini\", \"entropy\"],\n",
    "            }\n"
   ]
  },
  {
   "cell_type": "code",
   "execution_count": null,
   "metadata": {},
   "outputs": [],
   "source": [
    "rf_CV_model = \\\n",
    "RandomizedSearchCV(estimator=rf_model, \n",
    "                   param_distributions=rf_params,\n",
    "                   n_iter= 300,\n",
    "                   scoring='neg_log_loss',\n",
    "                   cv=3, verbose= 2,\n",
    "                   n_jobs = -1,\n",
    "                   return_train_score = True)\\\n",
    ".fit(full_X_train, full_y_train)"
   ]
  },
  {
   "cell_type": "code",
   "execution_count": null,
   "metadata": {},
   "outputs": [],
   "source": [
    "joblib.dump(rf_CV_model, 'rf_CV_model.pkl') "
   ]
  },
  {
   "cell_type": "code",
   "execution_count": null,
   "metadata": {},
   "outputs": [],
   "source": [
    "def get_parameter_space(param_dict):\n",
    "    space = 1\n",
    "    for key in param_dict.keys():\n",
    "        space = space * len(param_dict[key])\n",
    "    return space\n",
    "\n",
    "get_parameter_space(gb_params)"
   ]
  },
  {
   "cell_type": "code",
   "execution_count": null,
   "metadata": {},
   "outputs": [],
   "source": [
    "gb_params = {\n",
    "    'learning_rate' : np.arange(0.01, 0.10, 0.01),\n",
    "    'max_depth' : np.arange(3, 25, 2),\n",
    "    \"max_features\" : [0.1, 0.3, 0.5, 'auto', 'log2', None],\n",
    "    'subsample' : [1.0],\n",
    "    'n_estimators' : [100],\n",
    "    \"min_samples_leaf\": [2 ,5, 10, 25, 50, 100] \\\n",
    "    + np.arange(0.001, 0.01, 0.001).tolist(),\n",
    "    \"min_samples_split\": [2 ,5, 10, 25, 50, 100]\\\n",
    "    + np.arange(0.001, 0.01, 0.001).tolist(),\n",
    "}"
   ]
  },
  {
   "cell_type": "code",
   "execution_count": null,
   "metadata": {},
   "outputs": [],
   "source": [
    "gb_CV_model = \\\n",
    "RandomizedSearchCV(estimator=gb_model,\n",
    "                   param_distributions=gb_params,\n",
    "                   n_iter= 500, scoring='neg_log_loss', \n",
    "                   cv=3, verbose=1, n_jobs = -1, \n",
    "                   return_train_score = True)\\\n",
    ".fit(full_X_train, full_y_train)"
   ]
  },
  {
   "cell_type": "code",
   "execution_count": null,
   "metadata": {},
   "outputs": [],
   "source": [
    "joblib.dump(gb_CV_model, 'gb_CV_model.pkl') "
   ]
  },
  {
   "cell_type": "code",
   "execution_count": 50,
   "metadata": {},
   "outputs": [],
   "source": [
    "rf_CV_model = joblib.load('rf_CV_model.pkl')\n",
    "gb_CV_model = joblib.load('gb_CV_model.pkl')"
   ]
  },
  {
   "cell_type": "markdown",
   "metadata": {},
   "source": [
    "As we can see from the values of the cross validation results, the best parameters for the Gradient Boosting model have relatively high `max_depth` value, indicating that we are able to fit complex model as we have high-dimension, high-observation dataset. One point to note is that the number of estimators used in this model might be lacking. Similarly, the Parameters chosen for the Random Forest model is shown below."
   ]
  },
  {
   "cell_type": "code",
   "execution_count": 53,
   "metadata": {},
   "outputs": [
    {
     "name": "stdout",
     "output_type": "stream",
     "text": [
      "Model with rank: 1\n",
      "Mean validation score: -0.178 (std: 0.001)\n",
      "Parameters: {'subsample': 1.0, 'learning_rate': 0.05, 'min_samples_leaf': 0.005, 'n_estimators': 100, 'min_samples_split': 0.008, 'max_features': 0.3, 'max_depth': 11}\n",
      "\n",
      "Model with rank: 2\n",
      "Mean validation score: -0.178 (std: 0.001)\n",
      "Parameters: {'subsample': 1.0, 'learning_rate': 0.06999999999999999, 'min_samples_leaf': 0.004, 'n_estimators': 100, 'min_samples_split': 0.003, 'max_features': 0.5, 'max_depth': 7}\n",
      "\n",
      "Model with rank: 3\n",
      "Mean validation score: -0.178 (std: 0.001)\n",
      "Parameters: {'subsample': 1.0, 'learning_rate': 0.060000000000000005, 'min_samples_leaf': 0.005, 'n_estimators': 100, 'min_samples_split': 0.006, 'max_features': 0.3, 'max_depth': 11}\n",
      "\n"
     ]
    }
   ],
   "source": [
    "report(gb_CV_model.cv_results_, n_top=3)"
   ]
  },
  {
   "cell_type": "code",
   "execution_count": 52,
   "metadata": {},
   "outputs": [
    {
     "name": "stdout",
     "output_type": "stream",
     "text": [
      "Model with rank: 1\n",
      "Mean validation score: -0.179 (std: 0.001)\n",
      "Parameters: {'bootstrap': True, 'min_samples_leaf': 25, 'n_estimators': 500, 'min_samples_split': 25, 'criterion': 'gini', 'max_features': 0.2, 'max_depth': 15}\n",
      "\n",
      "Model with rank: 2\n",
      "Mean validation score: -0.179 (std: 0.001)\n",
      "Parameters: {'bootstrap': True, 'min_samples_leaf': 10, 'n_estimators': 500, 'min_samples_split': 2, 'criterion': 'gini', 'max_features': 0.3, 'max_depth': 12}\n",
      "\n",
      "Model with rank: 3\n",
      "Mean validation score: -0.179 (std: 0.001)\n",
      "Parameters: {'bootstrap': True, 'min_samples_leaf': 2, 'n_estimators': 500, 'min_samples_split': 0.001, 'criterion': 'gini', 'max_features': 0.2, 'max_depth': 12}\n",
      "\n"
     ]
    }
   ],
   "source": [
    "report(rf_CV_model.cv_results_, n_top=3)"
   ]
  },
  {
   "cell_type": "markdown",
   "metadata": {},
   "source": [
    "We can then combine the probability prediction for the Logistic Regression, Random Forest, and Gradient Boosting weighted by their relative performance in the validation dataset to get our final prediction"
   ]
  },
  {
   "cell_type": "code",
   "execution_count": 54,
   "metadata": {},
   "outputs": [],
   "source": [
    "def ensemble_prob_predict(lr_CV_model,\n",
    "                          rf_CV_model, gb_CV_model, \n",
    "                          X_test):\n",
    "    lr_proba=  lr_CV_model.predict_proba(X_test)\n",
    "    rf_proba = rf_CV_model.predict_proba(X_test)\n",
    "    gb_proba = gb_CV_model.predict_proba(X_test)\n",
    "    return 0.1 * lr_proba + 0.45 * rf_proba \\\n",
    "+ 0.45 * gb_proba"
   ]
  },
  {
   "cell_type": "code",
   "execution_count": 55,
   "metadata": {},
   "outputs": [
    {
     "name": "stderr",
     "output_type": "stream",
     "text": [
      "[Parallel(n_jobs=1)]: Done 500 out of 500 | elapsed:    8.3s finished\n"
     ]
    }
   ],
   "source": [
    "y_test_proba = ensemble_prob_predict(lr_CV_model,\n",
    "                                     rf_CV_model, \n",
    "                                     gb_CV_model, \n",
    "                                     X_test)"
   ]
  },
  {
   "cell_type": "code",
   "execution_count": 56,
   "metadata": {},
   "outputs": [
    {
     "data": {
      "text/plain": [
       "(101503, 2)"
      ]
     },
     "execution_count": 56,
     "metadata": {},
     "output_type": "execute_result"
    }
   ],
   "source": [
    "y_test_proba.shape"
   ]
  },
  {
   "cell_type": "code",
   "execution_count": null,
   "metadata": {},
   "outputs": [],
   "source": [
    "dict_pred = {\n",
    "    'Id' : range(1, 101504),\n",
    "    'Probability' : y_test_proba[:,1]\n",
    "}\n",
    "\n",
    "df_pred = pd.DataFrame(dict_pred)"
   ]
  },
  {
   "cell_type": "code",
   "execution_count": null,
   "metadata": {},
   "outputs": [],
   "source": [
    "df_pred.to_csv('entry.csv', index=False)"
   ]
  },
  {
   "cell_type": "code",
   "execution_count": null,
   "metadata": {},
   "outputs": [],
   "source": []
  }
 ],
 "metadata": {
  "kernelspec": {
   "display_name": "Python 2",
   "language": "python",
   "name": "python2"
  },
  "language_info": {
   "codemirror_mode": {
    "name": "ipython",
    "version": 2
   },
   "file_extension": ".py",
   "mimetype": "text/x-python",
   "name": "python",
   "nbconvert_exporter": "python",
   "pygments_lexer": "ipython2",
   "version": "2.7.14"
  }
 },
 "nbformat": 4,
 "nbformat_minor": 2
}
